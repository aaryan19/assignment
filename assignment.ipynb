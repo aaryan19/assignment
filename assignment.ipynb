{
  "nbformat": 4,
  "nbformat_minor": 0,
  "metadata": {
    "colab": {
      "name": "assignment.ipynb",
      "provenance": []
    },
    "kernelspec": {
      "name": "python3",
      "display_name": "Python 3"
    },
    "language_info": {
      "name": "python"
    }
  },
  "cells": [
    {
      "cell_type": "code",
      "execution_count": 38,
      "metadata": {
        "id": "LIlVszN1Id7h"
      },
      "outputs": [],
      "source": [
        "import numpy as np\n",
        "import pandas as pd\n",
        "from sklearn.linear_model import LinearRegression\n",
        "from sklearn import preprocessing"
      ]
    },
    {
      "cell_type": "code",
      "source": [
        "from google.colab import drive\n",
        "drive.mount('/content/drive/')"
      ],
      "metadata": {
        "colab": {
          "base_uri": "https://localhost:8080/"
        },
        "id": "p_YN3XysPPtu",
        "outputId": "bc6a891f-52e8-4bf3-f708-73b5b20bcf2d"
      },
      "execution_count": 39,
      "outputs": [
        {
          "output_type": "stream",
          "name": "stdout",
          "text": [
            "Drive already mounted at /content/drive/; to attempt to forcibly remount, call drive.mount(\"/content/drive/\", force_remount=True).\n"
          ]
        }
      ]
    },
    {
      "cell_type": "code",
      "source": [
        "#importing dataset from drive\n",
        "df = pd.read_csv(\"/content/drive/MyDrive/training_data.csv\",  sep = ',',encoding = \"ISO-8859-1\", header= 0)\n",
        "df_test = pd.read_csv(\"/content/drive/MyDrive/test.csv\",  sep = ',',encoding = \"ISO-8859-1\", header= 0)"
      ],
      "metadata": {
        "id": "CyXT3zgzl4LV"
      },
      "execution_count": 40,
      "outputs": []
    },
    {
      "cell_type": "code",
      "source": [
        "#removing colon from both dataset and storing them as dataframe\n",
        "\n",
        "def remo(num):\n",
        "  a= num.split(\":\")\n",
        "  return a[0]\n",
        "def remo1(num):\n",
        "  a= num.split(\":\")\n",
        "  return a[1]\n",
        "def remo2(num):\n",
        "  a= num.split(\":\")\n",
        "  return a[2]\n",
        "  \n",
        "df['x']= df['x:x2:y'].apply(remo)\n",
        "df['x2']= df['x:x2:y'].apply(remo1)\n",
        "df['y']= df['x:x2:y'].apply(remo2)\n",
        "\n",
        "df_test['x']= df_test['x:x2:y'].apply(remo)\n",
        "df_test['x2']= df_test['x:x2:y'].apply(remo1)\n",
        "df_test['y']= df_test['x:x2:y'].apply(remo2)"
      ],
      "metadata": {
        "id": "qK8dVwhn8i9S"
      },
      "execution_count": 41,
      "outputs": []
    },
    {
      "cell_type": "code",
      "source": [
        "#dropping primary coloum as it is not required anymore\n",
        "dd = df.drop([\"x:x2:y\"], axis=1)\n",
        "dd_test = df_test.drop([\"x:x2:y\"], axis=1)"
      ],
      "metadata": {
        "id": "DBLH4RX9q-TB"
      },
      "execution_count": 42,
      "outputs": []
    },
    {
      "cell_type": "code",
      "source": [
        "#dataset consisted of blank spaces. Inorder to remove this i first filled blank spaces with NaN and dropped NaN.\n",
        "dd.replace('', np.nan, inplace=True)\n",
        "dd.dropna( inplace=True)\n",
        "\n",
        "dd_test.replace('', np.nan, inplace=True)\n",
        "dd_test.dropna( inplace=True)"
      ],
      "metadata": {
        "id": "EnQngaRWr9EA"
      },
      "execution_count": 43,
      "outputs": []
    },
    {
      "cell_type": "code",
      "source": [
        "dd.head(15)"
      ],
      "metadata": {
        "colab": {
          "base_uri": "https://localhost:8080/",
          "height": 520
        },
        "id": "mlTzqqFyxhJv",
        "outputId": "0f37f04b-7102-4992-b960-d48244557c16"
      },
      "execution_count": 44,
      "outputs": [
        {
          "output_type": "execute_result",
          "data": {
            "text/plain": [
              "                       x                   x2                   y\n",
              "0   -0.22878771137762494  -2.2878771137762492  3.5060557614846815\n",
              "1   -0.09466898484041342  -0.9466898484041342   0.782722730538508\n",
              "2    -0.9566513326870152   -9.566513326870151  3.0453092754679334\n",
              "3    -1.9845087538246209  -19.845087538246208   3.063299715087655\n",
              "4      0.386115166110936   3.8611516611093597   5.548160674242063\n",
              "5    -0.9235870282331189   -9.235870282331188   2.953078359044277\n",
              "6    -2.9300249744480498  -29.300249744480496  2.5752062021200413\n",
              "7    -0.5992298434965667   -5.992298434965667  2.8100888521378793\n",
              "8    0.18680328497817256   1.8680328497817256   2.135610670031456\n",
              "9    -0.6182105833594057   -6.182105833594057  3.1001312376330783\n",
              "11    -0.601860694332906    -6.01860694332906  3.4270734540103063\n",
              "12    0.7250352776511095    7.250352776511095   3.681682523600428\n",
              "13    -1.425641405666449   -14.25641405666449  3.6082996165518573\n",
              "14   -0.5487808228978934   -5.487808228978935  2.7070747162039788\n",
              "15   -1.4176628797467417  -14.176628797467416   4.411688727155458"
            ],
            "text/html": [
              "\n",
              "  <div id=\"df-7b8e4e18-00e2-4b2e-a4b2-5649ffb033a1\">\n",
              "    <div class=\"colab-df-container\">\n",
              "      <div>\n",
              "<style scoped>\n",
              "    .dataframe tbody tr th:only-of-type {\n",
              "        vertical-align: middle;\n",
              "    }\n",
              "\n",
              "    .dataframe tbody tr th {\n",
              "        vertical-align: top;\n",
              "    }\n",
              "\n",
              "    .dataframe thead th {\n",
              "        text-align: right;\n",
              "    }\n",
              "</style>\n",
              "<table border=\"1\" class=\"dataframe\">\n",
              "  <thead>\n",
              "    <tr style=\"text-align: right;\">\n",
              "      <th></th>\n",
              "      <th>x</th>\n",
              "      <th>x2</th>\n",
              "      <th>y</th>\n",
              "    </tr>\n",
              "  </thead>\n",
              "  <tbody>\n",
              "    <tr>\n",
              "      <th>0</th>\n",
              "      <td>-0.22878771137762494</td>\n",
              "      <td>-2.2878771137762492</td>\n",
              "      <td>3.5060557614846815</td>\n",
              "    </tr>\n",
              "    <tr>\n",
              "      <th>1</th>\n",
              "      <td>-0.09466898484041342</td>\n",
              "      <td>-0.9466898484041342</td>\n",
              "      <td>0.782722730538508</td>\n",
              "    </tr>\n",
              "    <tr>\n",
              "      <th>2</th>\n",
              "      <td>-0.9566513326870152</td>\n",
              "      <td>-9.566513326870151</td>\n",
              "      <td>3.0453092754679334</td>\n",
              "    </tr>\n",
              "    <tr>\n",
              "      <th>3</th>\n",
              "      <td>-1.9845087538246209</td>\n",
              "      <td>-19.845087538246208</td>\n",
              "      <td>3.063299715087655</td>\n",
              "    </tr>\n",
              "    <tr>\n",
              "      <th>4</th>\n",
              "      <td>0.386115166110936</td>\n",
              "      <td>3.8611516611093597</td>\n",
              "      <td>5.548160674242063</td>\n",
              "    </tr>\n",
              "    <tr>\n",
              "      <th>5</th>\n",
              "      <td>-0.9235870282331189</td>\n",
              "      <td>-9.235870282331188</td>\n",
              "      <td>2.953078359044277</td>\n",
              "    </tr>\n",
              "    <tr>\n",
              "      <th>6</th>\n",
              "      <td>-2.9300249744480498</td>\n",
              "      <td>-29.300249744480496</td>\n",
              "      <td>2.5752062021200413</td>\n",
              "    </tr>\n",
              "    <tr>\n",
              "      <th>7</th>\n",
              "      <td>-0.5992298434965667</td>\n",
              "      <td>-5.992298434965667</td>\n",
              "      <td>2.8100888521378793</td>\n",
              "    </tr>\n",
              "    <tr>\n",
              "      <th>8</th>\n",
              "      <td>0.18680328497817256</td>\n",
              "      <td>1.8680328497817256</td>\n",
              "      <td>2.135610670031456</td>\n",
              "    </tr>\n",
              "    <tr>\n",
              "      <th>9</th>\n",
              "      <td>-0.6182105833594057</td>\n",
              "      <td>-6.182105833594057</td>\n",
              "      <td>3.1001312376330783</td>\n",
              "    </tr>\n",
              "    <tr>\n",
              "      <th>11</th>\n",
              "      <td>-0.601860694332906</td>\n",
              "      <td>-6.01860694332906</td>\n",
              "      <td>3.4270734540103063</td>\n",
              "    </tr>\n",
              "    <tr>\n",
              "      <th>12</th>\n",
              "      <td>0.7250352776511095</td>\n",
              "      <td>7.250352776511095</td>\n",
              "      <td>3.681682523600428</td>\n",
              "    </tr>\n",
              "    <tr>\n",
              "      <th>13</th>\n",
              "      <td>-1.425641405666449</td>\n",
              "      <td>-14.25641405666449</td>\n",
              "      <td>3.6082996165518573</td>\n",
              "    </tr>\n",
              "    <tr>\n",
              "      <th>14</th>\n",
              "      <td>-0.5487808228978934</td>\n",
              "      <td>-5.487808228978935</td>\n",
              "      <td>2.7070747162039788</td>\n",
              "    </tr>\n",
              "    <tr>\n",
              "      <th>15</th>\n",
              "      <td>-1.4176628797467417</td>\n",
              "      <td>-14.176628797467416</td>\n",
              "      <td>4.411688727155458</td>\n",
              "    </tr>\n",
              "  </tbody>\n",
              "</table>\n",
              "</div>\n",
              "      <button class=\"colab-df-convert\" onclick=\"convertToInteractive('df-7b8e4e18-00e2-4b2e-a4b2-5649ffb033a1')\"\n",
              "              title=\"Convert this dataframe to an interactive table.\"\n",
              "              style=\"display:none;\">\n",
              "        \n",
              "  <svg xmlns=\"http://www.w3.org/2000/svg\" height=\"24px\"viewBox=\"0 0 24 24\"\n",
              "       width=\"24px\">\n",
              "    <path d=\"M0 0h24v24H0V0z\" fill=\"none\"/>\n",
              "    <path d=\"M18.56 5.44l.94 2.06.94-2.06 2.06-.94-2.06-.94-.94-2.06-.94 2.06-2.06.94zm-11 1L8.5 8.5l.94-2.06 2.06-.94-2.06-.94L8.5 2.5l-.94 2.06-2.06.94zm10 10l.94 2.06.94-2.06 2.06-.94-2.06-.94-.94-2.06-.94 2.06-2.06.94z\"/><path d=\"M17.41 7.96l-1.37-1.37c-.4-.4-.92-.59-1.43-.59-.52 0-1.04.2-1.43.59L10.3 9.45l-7.72 7.72c-.78.78-.78 2.05 0 2.83L4 21.41c.39.39.9.59 1.41.59.51 0 1.02-.2 1.41-.59l7.78-7.78 2.81-2.81c.8-.78.8-2.07 0-2.86zM5.41 20L4 18.59l7.72-7.72 1.47 1.35L5.41 20z\"/>\n",
              "  </svg>\n",
              "      </button>\n",
              "      \n",
              "  <style>\n",
              "    .colab-df-container {\n",
              "      display:flex;\n",
              "      flex-wrap:wrap;\n",
              "      gap: 12px;\n",
              "    }\n",
              "\n",
              "    .colab-df-convert {\n",
              "      background-color: #E8F0FE;\n",
              "      border: none;\n",
              "      border-radius: 50%;\n",
              "      cursor: pointer;\n",
              "      display: none;\n",
              "      fill: #1967D2;\n",
              "      height: 32px;\n",
              "      padding: 0 0 0 0;\n",
              "      width: 32px;\n",
              "    }\n",
              "\n",
              "    .colab-df-convert:hover {\n",
              "      background-color: #E2EBFA;\n",
              "      box-shadow: 0px 1px 2px rgba(60, 64, 67, 0.3), 0px 1px 3px 1px rgba(60, 64, 67, 0.15);\n",
              "      fill: #174EA6;\n",
              "    }\n",
              "\n",
              "    [theme=dark] .colab-df-convert {\n",
              "      background-color: #3B4455;\n",
              "      fill: #D2E3FC;\n",
              "    }\n",
              "\n",
              "    [theme=dark] .colab-df-convert:hover {\n",
              "      background-color: #434B5C;\n",
              "      box-shadow: 0px 1px 3px 1px rgba(0, 0, 0, 0.15);\n",
              "      filter: drop-shadow(0px 1px 2px rgba(0, 0, 0, 0.3));\n",
              "      fill: #FFFFFF;\n",
              "    }\n",
              "  </style>\n",
              "\n",
              "      <script>\n",
              "        const buttonEl =\n",
              "          document.querySelector('#df-7b8e4e18-00e2-4b2e-a4b2-5649ffb033a1 button.colab-df-convert');\n",
              "        buttonEl.style.display =\n",
              "          google.colab.kernel.accessAllowed ? 'block' : 'none';\n",
              "\n",
              "        async function convertToInteractive(key) {\n",
              "          const element = document.querySelector('#df-7b8e4e18-00e2-4b2e-a4b2-5649ffb033a1');\n",
              "          const dataTable =\n",
              "            await google.colab.kernel.invokeFunction('convertToInteractive',\n",
              "                                                     [key], {});\n",
              "          if (!dataTable) return;\n",
              "\n",
              "          const docLinkHtml = 'Like what you see? Visit the ' +\n",
              "            '<a target=\"_blank\" href=https://colab.research.google.com/notebooks/data_table.ipynb>data table notebook</a>'\n",
              "            + ' to learn more about interactive tables.';\n",
              "          element.innerHTML = '';\n",
              "          dataTable['output_type'] = 'display_data';\n",
              "          await google.colab.output.renderOutput(dataTable, element);\n",
              "          const docLink = document.createElement('div');\n",
              "          docLink.innerHTML = docLinkHtml;\n",
              "          element.appendChild(docLink);\n",
              "        }\n",
              "      </script>\n",
              "    </div>\n",
              "  </div>\n",
              "  "
            ]
          },
          "metadata": {},
          "execution_count": 44
        }
      ]
    },
    {
      "cell_type": "code",
      "source": [
        "#cancatinating training x and x2\n",
        "ys = dd['y']\n",
        "xs = np.c_[dd['x'],dd['x2']]"
      ],
      "metadata": {
        "id": "Un6PU8eZxovg"
      },
      "execution_count": 45,
      "outputs": []
    },
    {
      "cell_type": "code",
      "source": [
        "#cancatinating test x and x2\n",
        "yt = dd_test['y']\n",
        "xt = np.c_[dd_test['x'],dd_test['x2']]"
      ],
      "metadata": {
        "id": "ZZyhitC-JCjt"
      },
      "execution_count": 46,
      "outputs": []
    },
    {
      "cell_type": "code",
      "source": [
        "#standarzing dataset\n",
        "xs = preprocessing.scale(xs)\n",
        "ys = preprocessing.scale(ys)\n",
        "\n",
        "xt = preprocessing.scale(xt)\n",
        "yt = preprocessing.scale(yt)"
      ],
      "metadata": {
        "id": "ouTvbKh7_RyW"
      },
      "execution_count": 47,
      "outputs": []
    },
    {
      "cell_type": "code",
      "source": [
        "#creating linear regression object training dataset\n",
        "regressor = LinearRegression()\n",
        "regressor.fit(xs, ys)"
      ],
      "metadata": {
        "colab": {
          "base_uri": "https://localhost:8080/"
        },
        "id": "Qe-xaMh3Ac5H",
        "outputId": "8f969b82-a819-46ef-c2e2-893cd31eafb5"
      },
      "execution_count": 48,
      "outputs": [
        {
          "output_type": "execute_result",
          "data": {
            "text/plain": [
              "LinearRegression()"
            ]
          },
          "metadata": {},
          "execution_count": 48
        }
      ]
    },
    {
      "cell_type": "code",
      "source": [
        "#predict dataset\n",
        "y_pred = regressor.predict(xt)"
      ],
      "metadata": {
        "id": "EBBwflKlDfYT"
      },
      "execution_count": 49,
      "outputs": []
    },
    {
      "cell_type": "code",
      "source": [
        "#calculating mean squared error\n",
        "from sklearn.metrics import mean_squared_error\n",
        "mean_squared_error(yt, y_pred)"
      ],
      "metadata": {
        "colab": {
          "base_uri": "https://localhost:8080/"
        },
        "id": "Jl4XUrHvJmFL",
        "outputId": "e4eb9df0-07f9-43c9-a2e1-28e2de101112"
      },
      "execution_count": 50,
      "outputs": [
        {
          "output_type": "execute_result",
          "data": {
            "text/plain": [
              "0.6603673614230972"
            ]
          },
          "metadata": {},
          "execution_count": 50
        }
      ]
    },
    {
      "cell_type": "code",
      "source": [
        "#claculating correlation\n",
        "asd= dd.drop([\"y\"], axis=1)\n",
        "corrr=asd.corr(method='pearson')"
      ],
      "metadata": {
        "id": "ZUeTgxo-MQbp"
      },
      "execution_count": 51,
      "outputs": []
    },
    {
      "cell_type": "code",
      "source": [
        "corrr"
      ],
      "metadata": {
        "colab": {
          "base_uri": "https://localhost:8080/",
          "height": 49
        },
        "id": "u8W0b87iOPgU",
        "outputId": "e7e9d9ff-8d7c-4ab4-dd27-f02a6ce17825"
      },
      "execution_count": 53,
      "outputs": [
        {
          "output_type": "execute_result",
          "data": {
            "text/plain": [
              "Empty DataFrame\n",
              "Columns: []\n",
              "Index: []"
            ],
            "text/html": [
              "\n",
              "  <div id=\"df-f472cc59-82eb-4958-97a7-03b8b660d6e0\">\n",
              "    <div class=\"colab-df-container\">\n",
              "      <div>\n",
              "<style scoped>\n",
              "    .dataframe tbody tr th:only-of-type {\n",
              "        vertical-align: middle;\n",
              "    }\n",
              "\n",
              "    .dataframe tbody tr th {\n",
              "        vertical-align: top;\n",
              "    }\n",
              "\n",
              "    .dataframe thead th {\n",
              "        text-align: right;\n",
              "    }\n",
              "</style>\n",
              "<table border=\"1\" class=\"dataframe\">\n",
              "  <thead>\n",
              "    <tr style=\"text-align: right;\">\n",
              "      <th></th>\n",
              "    </tr>\n",
              "  </thead>\n",
              "  <tbody>\n",
              "  </tbody>\n",
              "</table>\n",
              "</div>\n",
              "      <button class=\"colab-df-convert\" onclick=\"convertToInteractive('df-f472cc59-82eb-4958-97a7-03b8b660d6e0')\"\n",
              "              title=\"Convert this dataframe to an interactive table.\"\n",
              "              style=\"display:none;\">\n",
              "        \n",
              "  <svg xmlns=\"http://www.w3.org/2000/svg\" height=\"24px\"viewBox=\"0 0 24 24\"\n",
              "       width=\"24px\">\n",
              "    <path d=\"M0 0h24v24H0V0z\" fill=\"none\"/>\n",
              "    <path d=\"M18.56 5.44l.94 2.06.94-2.06 2.06-.94-2.06-.94-.94-2.06-.94 2.06-2.06.94zm-11 1L8.5 8.5l.94-2.06 2.06-.94-2.06-.94L8.5 2.5l-.94 2.06-2.06.94zm10 10l.94 2.06.94-2.06 2.06-.94-2.06-.94-.94-2.06-.94 2.06-2.06.94z\"/><path d=\"M17.41 7.96l-1.37-1.37c-.4-.4-.92-.59-1.43-.59-.52 0-1.04.2-1.43.59L10.3 9.45l-7.72 7.72c-.78.78-.78 2.05 0 2.83L4 21.41c.39.39.9.59 1.41.59.51 0 1.02-.2 1.41-.59l7.78-7.78 2.81-2.81c.8-.78.8-2.07 0-2.86zM5.41 20L4 18.59l7.72-7.72 1.47 1.35L5.41 20z\"/>\n",
              "  </svg>\n",
              "      </button>\n",
              "      \n",
              "  <style>\n",
              "    .colab-df-container {\n",
              "      display:flex;\n",
              "      flex-wrap:wrap;\n",
              "      gap: 12px;\n",
              "    }\n",
              "\n",
              "    .colab-df-convert {\n",
              "      background-color: #E8F0FE;\n",
              "      border: none;\n",
              "      border-radius: 50%;\n",
              "      cursor: pointer;\n",
              "      display: none;\n",
              "      fill: #1967D2;\n",
              "      height: 32px;\n",
              "      padding: 0 0 0 0;\n",
              "      width: 32px;\n",
              "    }\n",
              "\n",
              "    .colab-df-convert:hover {\n",
              "      background-color: #E2EBFA;\n",
              "      box-shadow: 0px 1px 2px rgba(60, 64, 67, 0.3), 0px 1px 3px 1px rgba(60, 64, 67, 0.15);\n",
              "      fill: #174EA6;\n",
              "    }\n",
              "\n",
              "    [theme=dark] .colab-df-convert {\n",
              "      background-color: #3B4455;\n",
              "      fill: #D2E3FC;\n",
              "    }\n",
              "\n",
              "    [theme=dark] .colab-df-convert:hover {\n",
              "      background-color: #434B5C;\n",
              "      box-shadow: 0px 1px 3px 1px rgba(0, 0, 0, 0.15);\n",
              "      filter: drop-shadow(0px 1px 2px rgba(0, 0, 0, 0.3));\n",
              "      fill: #FFFFFF;\n",
              "    }\n",
              "  </style>\n",
              "\n",
              "      <script>\n",
              "        const buttonEl =\n",
              "          document.querySelector('#df-f472cc59-82eb-4958-97a7-03b8b660d6e0 button.colab-df-convert');\n",
              "        buttonEl.style.display =\n",
              "          google.colab.kernel.accessAllowed ? 'block' : 'none';\n",
              "\n",
              "        async function convertToInteractive(key) {\n",
              "          const element = document.querySelector('#df-f472cc59-82eb-4958-97a7-03b8b660d6e0');\n",
              "          const dataTable =\n",
              "            await google.colab.kernel.invokeFunction('convertToInteractive',\n",
              "                                                     [key], {});\n",
              "          if (!dataTable) return;\n",
              "\n",
              "          const docLinkHtml = 'Like what you see? Visit the ' +\n",
              "            '<a target=\"_blank\" href=https://colab.research.google.com/notebooks/data_table.ipynb>data table notebook</a>'\n",
              "            + ' to learn more about interactive tables.';\n",
              "          element.innerHTML = '';\n",
              "          dataTable['output_type'] = 'display_data';\n",
              "          await google.colab.output.renderOutput(dataTable, element);\n",
              "          const docLink = document.createElement('div');\n",
              "          docLink.innerHTML = docLinkHtml;\n",
              "          element.appendChild(docLink);\n",
              "        }\n",
              "      </script>\n",
              "    </div>\n",
              "  </div>\n",
              "  "
            ]
          },
          "metadata": {},
          "execution_count": 53
        }
      ]
    },
    {
      "cell_type": "code",
      "source": [
        "#I wanted to calculate correlation of x and x2 because x2 = 10x. assuming that the correlation of x and x2 is 1\n",
        "#we can find lineral regression between any one of x and x2 and y. following is an expmple to show correlation is one when x2= 10x"
      ],
      "metadata": {
        "id": "cAw-UdGwR6Hm"
      },
      "execution_count": 54,
      "outputs": []
    },
    {
      "cell_type": "code",
      "source": [
        "d = {'col1': [1, 2, 3 ,4 ,5 ,6], 'col2': [.1, .2, .3, .4, .5, .6]}\n",
        "df3 = pd.DataFrame(data=d)"
      ],
      "metadata": {
        "id": "Y9fw9rz-Reky"
      },
      "execution_count": 55,
      "outputs": []
    },
    {
      "cell_type": "code",
      "source": [
        "df3.corr()"
      ],
      "metadata": {
        "colab": {
          "base_uri": "https://localhost:8080/",
          "height": 112
        },
        "id": "qT8XiO3VOwb4",
        "outputId": "aa8ede30-3066-4936-ee46-dcaa8b39cdba"
      },
      "execution_count": 56,
      "outputs": [
        {
          "output_type": "execute_result",
          "data": {
            "text/plain": [
              "      col1  col2\n",
              "col1   1.0   1.0\n",
              "col2   1.0   1.0"
            ],
            "text/html": [
              "\n",
              "  <div id=\"df-4763ec80-1da5-4948-8b14-22bb9e51da52\">\n",
              "    <div class=\"colab-df-container\">\n",
              "      <div>\n",
              "<style scoped>\n",
              "    .dataframe tbody tr th:only-of-type {\n",
              "        vertical-align: middle;\n",
              "    }\n",
              "\n",
              "    .dataframe tbody tr th {\n",
              "        vertical-align: top;\n",
              "    }\n",
              "\n",
              "    .dataframe thead th {\n",
              "        text-align: right;\n",
              "    }\n",
              "</style>\n",
              "<table border=\"1\" class=\"dataframe\">\n",
              "  <thead>\n",
              "    <tr style=\"text-align: right;\">\n",
              "      <th></th>\n",
              "      <th>col1</th>\n",
              "      <th>col2</th>\n",
              "    </tr>\n",
              "  </thead>\n",
              "  <tbody>\n",
              "    <tr>\n",
              "      <th>col1</th>\n",
              "      <td>1.0</td>\n",
              "      <td>1.0</td>\n",
              "    </tr>\n",
              "    <tr>\n",
              "      <th>col2</th>\n",
              "      <td>1.0</td>\n",
              "      <td>1.0</td>\n",
              "    </tr>\n",
              "  </tbody>\n",
              "</table>\n",
              "</div>\n",
              "      <button class=\"colab-df-convert\" onclick=\"convertToInteractive('df-4763ec80-1da5-4948-8b14-22bb9e51da52')\"\n",
              "              title=\"Convert this dataframe to an interactive table.\"\n",
              "              style=\"display:none;\">\n",
              "        \n",
              "  <svg xmlns=\"http://www.w3.org/2000/svg\" height=\"24px\"viewBox=\"0 0 24 24\"\n",
              "       width=\"24px\">\n",
              "    <path d=\"M0 0h24v24H0V0z\" fill=\"none\"/>\n",
              "    <path d=\"M18.56 5.44l.94 2.06.94-2.06 2.06-.94-2.06-.94-.94-2.06-.94 2.06-2.06.94zm-11 1L8.5 8.5l.94-2.06 2.06-.94-2.06-.94L8.5 2.5l-.94 2.06-2.06.94zm10 10l.94 2.06.94-2.06 2.06-.94-2.06-.94-.94-2.06-.94 2.06-2.06.94z\"/><path d=\"M17.41 7.96l-1.37-1.37c-.4-.4-.92-.59-1.43-.59-.52 0-1.04.2-1.43.59L10.3 9.45l-7.72 7.72c-.78.78-.78 2.05 0 2.83L4 21.41c.39.39.9.59 1.41.59.51 0 1.02-.2 1.41-.59l7.78-7.78 2.81-2.81c.8-.78.8-2.07 0-2.86zM5.41 20L4 18.59l7.72-7.72 1.47 1.35L5.41 20z\"/>\n",
              "  </svg>\n",
              "      </button>\n",
              "      \n",
              "  <style>\n",
              "    .colab-df-container {\n",
              "      display:flex;\n",
              "      flex-wrap:wrap;\n",
              "      gap: 12px;\n",
              "    }\n",
              "\n",
              "    .colab-df-convert {\n",
              "      background-color: #E8F0FE;\n",
              "      border: none;\n",
              "      border-radius: 50%;\n",
              "      cursor: pointer;\n",
              "      display: none;\n",
              "      fill: #1967D2;\n",
              "      height: 32px;\n",
              "      padding: 0 0 0 0;\n",
              "      width: 32px;\n",
              "    }\n",
              "\n",
              "    .colab-df-convert:hover {\n",
              "      background-color: #E2EBFA;\n",
              "      box-shadow: 0px 1px 2px rgba(60, 64, 67, 0.3), 0px 1px 3px 1px rgba(60, 64, 67, 0.15);\n",
              "      fill: #174EA6;\n",
              "    }\n",
              "\n",
              "    [theme=dark] .colab-df-convert {\n",
              "      background-color: #3B4455;\n",
              "      fill: #D2E3FC;\n",
              "    }\n",
              "\n",
              "    [theme=dark] .colab-df-convert:hover {\n",
              "      background-color: #434B5C;\n",
              "      box-shadow: 0px 1px 3px 1px rgba(0, 0, 0, 0.15);\n",
              "      filter: drop-shadow(0px 1px 2px rgba(0, 0, 0, 0.3));\n",
              "      fill: #FFFFFF;\n",
              "    }\n",
              "  </style>\n",
              "\n",
              "      <script>\n",
              "        const buttonEl =\n",
              "          document.querySelector('#df-4763ec80-1da5-4948-8b14-22bb9e51da52 button.colab-df-convert');\n",
              "        buttonEl.style.display =\n",
              "          google.colab.kernel.accessAllowed ? 'block' : 'none';\n",
              "\n",
              "        async function convertToInteractive(key) {\n",
              "          const element = document.querySelector('#df-4763ec80-1da5-4948-8b14-22bb9e51da52');\n",
              "          const dataTable =\n",
              "            await google.colab.kernel.invokeFunction('convertToInteractive',\n",
              "                                                     [key], {});\n",
              "          if (!dataTable) return;\n",
              "\n",
              "          const docLinkHtml = 'Like what you see? Visit the ' +\n",
              "            '<a target=\"_blank\" href=https://colab.research.google.com/notebooks/data_table.ipynb>data table notebook</a>'\n",
              "            + ' to learn more about interactive tables.';\n",
              "          element.innerHTML = '';\n",
              "          dataTable['output_type'] = 'display_data';\n",
              "          await google.colab.output.renderOutput(dataTable, element);\n",
              "          const docLink = document.createElement('div');\n",
              "          docLink.innerHTML = docLinkHtml;\n",
              "          element.appendChild(docLink);\n",
              "        }\n",
              "      </script>\n",
              "    </div>\n",
              "  </div>\n",
              "  "
            ]
          },
          "metadata": {},
          "execution_count": 56
        }
      ]
    },
    {
      "cell_type": "code",
      "source": [
        "#finding linear regression of x and y\n",
        "h1= dd['x']\n",
        "h2= dd['y']\n",
        "\n",
        "yt2 = dd_test['y']\n",
        "yt1 = dd_test['x']\n",
        "\n",
        "h1 = preprocessing.scale(h1)\n",
        "h2 = preprocessing.scale(h2)\n",
        "\n",
        "yt1 = preprocessing.scale(yt1)\n",
        "yt2 = preprocessing.scale(yt2)\n",
        "\n",
        "#adding dimension to x of training and test dataset\n",
        "h1 = h1[:,np.newaxis]\n",
        "yt1 = yt1[:,np.newaxis]"
      ],
      "metadata": {
        "id": "nB3o6dj7RzFI"
      },
      "execution_count": 60,
      "outputs": []
    },
    {
      "cell_type": "code",
      "source": [
        "regressor = LinearRegression()\n",
        "regressor.fit(h1, h2)\n",
        "\n",
        "y_1 = regressor.predict(yt1)"
      ],
      "metadata": {
        "id": "h82_9K6aUCcJ"
      },
      "execution_count": 61,
      "outputs": []
    },
    {
      "cell_type": "code",
      "source": [
        "y_1"
      ],
      "metadata": {
        "colab": {
          "base_uri": "https://localhost:8080/"
        },
        "id": "mUsgIdHRWq4B",
        "outputId": "150ca21d-1825-4d99-fcb3-bb82adcaa22d"
      },
      "execution_count": 63,
      "outputs": [
        {
          "output_type": "execute_result",
          "data": {
            "text/plain": [
              "array([-1.13767501, -0.79054628, -1.23463749, -1.30301509, -1.08627668,\n",
              "       -0.90584114, -0.77126084, -0.74036927, -1.12480081, -0.6669088 ,\n",
              "       -1.0732166 , -1.36598312, -1.2005665 , -1.10509609, -0.78007775,\n",
              "       -1.4345697 , -0.96685918, -1.22478789, -1.2093878 , -0.66435344,\n",
              "       -1.14782464, -0.96826287, -1.05254042, -0.90438209, -1.09819111,\n",
              "       -1.26650842, -0.87569107, -1.07141338, -1.23462943, -1.1302828 ,\n",
              "       -1.00688525, -1.00622656, -1.02924959, -0.50713127,  0.13127894,\n",
              "       -0.26169402,  0.00579826,  0.29097997,  0.17540495,  0.1918708 ,\n",
              "        0.54370843, -0.15571876,  0.1394777 ,  0.19736699, -0.53441274,\n",
              "       -0.01625347,  0.40653245, -0.224099  ,  0.48629851,  0.11264976,\n",
              "        0.09176762,  0.53627262,  0.72883265,  0.27872251,  0.15581196,\n",
              "        0.29118201,  0.29090915,  0.00559071, -0.28281935,  0.14349171,\n",
              "        0.17299706,  0.20263073,  0.30740057,  0.13222493,  0.83054218,\n",
              "       -0.02512156, -0.05453965,  1.1114552 ,  0.95953388,  0.80141151,\n",
              "        1.0482563 ,  1.23366954,  0.68163131,  0.75146876,  0.74526183,\n",
              "        0.71665971,  0.4333641 ,  0.49964471,  0.45233469,  0.96995376,\n",
              "        0.95682659,  0.84539743,  1.01789326,  0.95547598,  0.96732304,\n",
              "        1.04554616,  0.94130055,  1.20452876,  0.35395626,  0.98007504,\n",
              "        1.13691504,  0.40080611,  1.14570687,  1.06510686,  1.0124954 ,\n",
              "        1.22052665,  0.77807372,  1.22693317,  0.99562819,  1.13520341])"
            ]
          },
          "metadata": {},
          "execution_count": 63
        }
      ]
    },
    {
      "cell_type": "code",
      "source": [
        "mean_squared_error(yt2, y_1)"
      ],
      "metadata": {
        "colab": {
          "base_uri": "https://localhost:8080/"
        },
        "id": "5O2IXLsQURyt",
        "outputId": "3d98d0e4-11b5-4db5-c245-2288bea741a7"
      },
      "execution_count": 62,
      "outputs": [
        {
          "output_type": "execute_result",
          "data": {
            "text/plain": [
              "0.25931192298515227"
            ]
          },
          "metadata": {},
          "execution_count": 62
        }
      ]
    },
    {
      "cell_type": "code",
      "source": [
        ""
      ],
      "metadata": {
        "id": "74P1Z1XIWjop"
      },
      "execution_count": null,
      "outputs": []
    }
  ]
}